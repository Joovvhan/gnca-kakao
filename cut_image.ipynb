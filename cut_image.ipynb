{
 "cells": [
  {
   "cell_type": "code",
   "execution_count": null,
   "metadata": {},
   "outputs": [],
   "source": [
    "from PIL import Image"
   ]
  },
  {
   "cell_type": "code",
   "execution_count": null,
   "metadata": {},
   "outputs": [],
   "source": [
    "import cv2 \n",
    "import matplotlib.pyplot as plt"
   ]
  },
  {
   "cell_type": "code",
   "execution_count": null,
   "metadata": {},
   "outputs": [],
   "source": [
    "from scipy import misc\n",
    "import glob\n",
    "import numpy as np"
   ]
  },
  {
   "cell_type": "code",
   "execution_count": null,
   "metadata": {},
   "outputs": [],
   "source": [
    "files = glob.glob(\"*.png\")\n",
    "files.sort()"
   ]
  },
  {
   "cell_type": "code",
   "execution_count": null,
   "metadata": {},
   "outputs": [],
   "source": [
    "k = 0\n",
    "save = False"
   ]
  },
  {
   "cell_type": "code",
   "execution_count": null,
   "metadata": {},
   "outputs": [],
   "source": [
    "save = False\n",
    "offset_x = 20\n",
    "offset_y = 16\n",
    "\n",
    "file = files[38]"
   ]
  },
  {
   "cell_type": "code",
   "execution_count": null,
   "metadata": {
    "scrolled": false
   },
   "outputs": [],
   "source": [
    "\n",
    "\n",
    "# for image_path in files:\n",
    "      \n",
    "img = cv2.imread(file) \n",
    "print(img.shape)\n",
    "\n",
    "b = img[:, :, 0]\n",
    "g = img[:, :, 1]\n",
    "r = img[:, :, 2]\n",
    "\n",
    "img = np.stack([r, g, b], 2)\n",
    "\n",
    "step_x = 176\n",
    "step_y = 156\n",
    "img_size = 124\n",
    "\n",
    "plt.figure(figsize=(14, 14))\n",
    "plt.imshow(img)\n",
    "\n",
    "for i in range(7):\n",
    "    for j in range(5):\n",
    "        x = offset_x + step_x * i\n",
    "        y = offset_y + step_y * j\n",
    "        plt.axvline(x=x,color='red')\n",
    "        plt.axhline(y=y,color='red')\n",
    "        plt.axvline(x=x+img_size,color='blue')\n",
    "        plt.axhline(y=y+img_size,color='blue')\n",
    "        \n",
    "        if save:\n",
    "            try:\n",
    "                im = Image.fromarray(img[y:y+img_size, x:x+img_size, :])\n",
    "                im.save(\"resource/emoticon_{:03d}.png\".format(k))\n",
    "                k += 1\n",
    "            except:\n",
    "                print('')\n",
    "\n",
    "plt.show()\n",
    "    \n",
    "#     for i in range(6):\n",
    "#         for j in range(4):\n",
    "#             plt.figure(figsize=(14, 14))\n",
    "#             x = offset_x + step * i\n",
    "#             y = offset_y + step * j\n",
    "#             plt.imshow(img[x:x + img_size, y:y + img_size, :])\n",
    "#             plt.show()"
   ]
  },
  {
   "cell_type": "code",
   "execution_count": null,
   "metadata": {},
   "outputs": [],
   "source": [
    "print(k)"
   ]
  },
  {
   "cell_type": "code",
   "execution_count": null,
   "metadata": {},
   "outputs": [],
   "source": []
  }
 ],
 "metadata": {
  "kernelspec": {
   "display_name": "Python 3",
   "language": "python",
   "name": "python3"
  },
  "language_info": {
   "codemirror_mode": {
    "name": "ipython",
    "version": 3
   },
   "file_extension": ".py",
   "mimetype": "text/x-python",
   "name": "python",
   "nbconvert_exporter": "python",
   "pygments_lexer": "ipython3",
   "version": "3.7.5"
  }
 },
 "nbformat": 4,
 "nbformat_minor": 2
}
