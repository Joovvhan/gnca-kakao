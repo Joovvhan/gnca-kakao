{
 "cells": [
  {
   "cell_type": "code",
   "execution_count": null,
   "metadata": {},
   "outputs": [],
   "source": [
    "import torch\n",
    "import os\n",
    "import glob\n",
    "import matplotlib.pyplot as plt\n",
    "\n",
    "import queue\n",
    "\n",
    "import threading\n",
    "\n",
    "from tqdm.notebook import tqdm\n",
    "\n",
    "from collections import namedtuple\n",
    "\n",
    "import time\n",
    "\n",
    "import random"
   ]
  },
  {
   "cell_type": "code",
   "execution_count": null,
   "metadata": {},
   "outputs": [],
   "source": [
    "import cv2 \n",
    "import numpy as np\n",
    "from PIL import Image"
   ]
  },
  {
   "cell_type": "code",
   "execution_count": null,
   "metadata": {},
   "outputs": [],
   "source": [
    "import torch\n",
    "import torch.functional as F\n",
    "import torch.nn as nn"
   ]
  },
  {
   "cell_type": "code",
   "execution_count": null,
   "metadata": {},
   "outputs": [],
   "source": [
    "Batch = namedtuple('batch', ('before', 'after'))"
   ]
  },
  {
   "cell_type": "code",
   "execution_count": null,
   "metadata": {},
   "outputs": [],
   "source": [
    "emoticon_file_list = glob.glob('resource/*.png')\n",
    "emoticon_file_list.sort()"
   ]
  },
  {
   "cell_type": "code",
   "execution_count": null,
   "metadata": {
    "scrolled": false
   },
   "outputs": [],
   "source": [
    "# Remove white images\n",
    "\n",
    "for file in tqdm(emoticon_file_list):\n",
    "    \n",
    "    image = cv2.imread(file)\n",
    "    \n",
    "    if np.min(image) == 255:\n",
    "        print(file)\n",
    "        image = image[:, :, (2, 1, 0)]\n",
    "        plt.figure()\n",
    "        plt.imshow(image)\n",
    "        plt.show()\n",
    "        os.remove(file)"
   ]
  },
  {
   "cell_type": "code",
   "execution_count": null,
   "metadata": {
    "scrolled": false
   },
   "outputs": [],
   "source": [
    "file = np.random.choice(emoticon_file_list)\n",
    "    \n",
    "image = cv2.imread(file)\n",
    "\n",
    "image = image[:, :, (2, 1, 0)]\n",
    "\n",
    "image = image / 2 ** 8\n",
    "\n",
    "plt.figure()\n",
    "plt.imshow(image)\n",
    "plt.show()"
   ]
  },
  {
   "cell_type": "code",
   "execution_count": null,
   "metadata": {},
   "outputs": [],
   "source": [
    "def punch_image(image, p=0.1):\n",
    "    \n",
    "    bool_mask = np.random.choice((True, False), image.shape[1:3], True, (1-p, p))\n",
    "    bool_mask = np.stack([bool_mask, bool_mask, bool_mask], axis=0)\n",
    "    \n",
    "    punched_image= np.where(bool_mask, image, np.ones(image.shape))\n",
    "    \n",
    "    return punched_image"
   ]
  },
  {
   "cell_type": "code",
   "execution_count": null,
   "metadata": {},
   "outputs": [],
   "source": [
    "from scipy.ndimage import gaussian_filter\n",
    "\n",
    "def blur_image(image, sigma=0.5):\n",
    "    \n",
    "    bool_mask = np.random.choice((True, False), image.shape[1:3], True, (1-p, p))\n",
    "    \n",
    "    punched_image= np.where(bool_mask, image, np.ones(image.shape))\n",
    "    \n",
    "    return blurred_image"
   ]
  },
  {
   "cell_type": "code",
   "execution_count": null,
   "metadata": {},
   "outputs": [],
   "source": [
    "last_blurred_image = image\n",
    "\n",
    "for sigma in np.arange(0, 2, 0.25):\n",
    "    blurred_image = gaussian_filter(image, sigma = (sigma, sigma, 0))\n",
    "    plt.figure()\n",
    "    plt.imshow(blurred_image)\n",
    "    \n",
    "    print(np.std(image - blurred_image))"
   ]
  },
  {
   "cell_type": "code",
   "execution_count": null,
   "metadata": {},
   "outputs": [],
   "source": [
    "def make_seed_image(image):\n",
    "    \n",
    "    bool_mask = np.random.choice((True, False), image.shape[1:3], True, (1-p, p))\n",
    "    bool_mask = np.stack([bool_mask, bool_mask, bool_mask], axis=0)\n",
    "    \n",
    "    punched_image= np.where(bool_mask, image, np.ones(image.shape))\n",
    "    \n",
    "    return seed_image"
   ]
  },
  {
   "cell_type": "code",
   "execution_count": null,
   "metadata": {},
   "outputs": [],
   "source": [
    "seed_pos = image.shape[0], image.shape[1]"
   ]
  },
  {
   "cell_type": "code",
   "execution_count": null,
   "metadata": {},
   "outputs": [],
   "source": [
    "width = image.shape[0]\n",
    "height = image.shape[1]\n",
    "\n",
    "seed_pos = (np.random.randint(1/3 * width, 2/3 * width), np.random.randint(1/3 * height, 2/3 * height))"
   ]
  },
  {
   "cell_type": "code",
   "execution_count": null,
   "metadata": {},
   "outputs": [],
   "source": [
    "plt.figure()\n",
    "for i in range(1000):\n",
    "#     seed_pos = (np.random.randint(1/3 * width, 2/3 * width), np.random.randint(1/3 * height, 2/3 * height))\n",
    "    seed_pos = (int(np.random.normal(width/2, width/12)), int(np.random.normal(height/2, height/12)))\n",
    "    plt.scatter(*seed_pos)\n",
    "plt.show()"
   ]
  },
  {
   "cell_type": "code",
   "execution_count": null,
   "metadata": {
    "scrolled": true
   },
   "outputs": [],
   "source": [
    "image.shape"
   ]
  },
  {
   "cell_type": "code",
   "execution_count": null,
   "metadata": {},
   "outputs": [],
   "source": [
    "image[seed_pos]"
   ]
  },
  {
   "cell_type": "code",
   "execution_count": null,
   "metadata": {},
   "outputs": [],
   "source": [
    "plt.imshow(image)"
   ]
  },
  {
   "cell_type": "code",
   "execution_count": null,
   "metadata": {},
   "outputs": [],
   "source": [
    "def create_cross_mask(size):\n",
    "    \n",
    "    assert size % 2 == 1, 'Cross mask supports only odd sized matrix'\n",
    "    \n",
    "    mask_matrix = np.zeros((size, size), dtype=bool)\n",
    "    \n",
    "    center = np.array((size // 2, size // 2))\n",
    "    \n",
    "    for point in [np.array((i, j)) for i in range(size) for j in range(size)]:\n",
    "        if np.sum(np.fabs(center - point)) <= size // 2:\n",
    "            mask_matrix[point[0], point[1]] = True\n",
    "    \n",
    "    return mask_matrix"
   ]
  },
  {
   "cell_type": "code",
   "execution_count": null,
   "metadata": {
    "scrolled": false
   },
   "outputs": [],
   "source": [
    "mask_list = [create_cross_mask(i) for i in range(1, 51, 2)]\n",
    "\n",
    "# for size in range(1, 27, 2):\n",
    "#     plt.figure()\n",
    "#     plt.imshow(create_cross_mask(size))\n",
    "\n",
    "# plt.show()"
   ]
  },
  {
   "cell_type": "code",
   "execution_count": null,
   "metadata": {},
   "outputs": [],
   "source": [
    "plt.imshow(mask_list[-1])"
   ]
  },
  {
   "cell_type": "code",
   "execution_count": null,
   "metadata": {},
   "outputs": [],
   "source": [
    "seed_pos = (int(np.random.normal(width/2, width/12)), int(np.random.normal(height/2, height/12)))"
   ]
  },
  {
   "cell_type": "code",
   "execution_count": null,
   "metadata": {},
   "outputs": [],
   "source": [
    "def apply_mask_to_image(image, mask_matrix, center=None):\n",
    "    \n",
    "    center = (image.shape[0] // 2, image.shape[1] // 2)\n",
    "    \n",
    "    full_mask = np.zeros(image.shape[0:2], dtype=bool)\n",
    "    full_mask[center[0]-mask_matrix.shape[0]//2:center[0]+mask_matrix.shape[0]//2 + 1, \\\n",
    "              center[1]-mask_matrix.shape[1]//2:center[1]+mask_matrix.shape[1]//2 + 1] \\\n",
    "    = mask_matrix\n",
    "    \n",
    "    bool_mask = np.stack([full_mask, full_mask, full_mask], axis=2)\n",
    "    \n",
    "    masked_image= np.where(bool_mask, image, np.ones(image.shape), )\n",
    "    \n",
    "    return masked_image\n",
    "    \n",
    "    "
   ]
  },
  {
   "cell_type": "code",
   "execution_count": null,
   "metadata": {
    "scrolled": false
   },
   "outputs": [],
   "source": [
    "for mask in mask_list[-15:]:\n",
    "    plt.figure(figsize=(2, 2))\n",
    "    plt.imshow(apply_mask_to_image(image, mask))"
   ]
  },
  {
   "cell_type": "code",
   "execution_count": null,
   "metadata": {},
   "outputs": [],
   "source": []
  }
 ],
 "metadata": {
  "kernelspec": {
   "display_name": "Python 3",
   "language": "python",
   "name": "python3"
  },
  "language_info": {
   "codemirror_mode": {
    "name": "ipython",
    "version": 3
   },
   "file_extension": ".py",
   "mimetype": "text/x-python",
   "name": "python",
   "nbconvert_exporter": "python",
   "pygments_lexer": "ipython3",
   "version": "3.7.5"
  }
 },
 "nbformat": 4,
 "nbformat_minor": 2
}
