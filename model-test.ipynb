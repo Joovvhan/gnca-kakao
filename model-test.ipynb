{
 "cells": [
  {
   "cell_type": "code",
   "execution_count": 2,
   "metadata": {},
   "outputs": [],
   "source": [
    "import torch\n",
    "import os\n",
    "import glob\n",
    "import matplotlib.pyplot as plt\n",
    "\n",
    "import queue\n",
    "\n",
    "import threading\n",
    "\n",
    "from tqdm.notebook import tqdm\n",
    "\n",
    "from collections import namedtuple\n",
    "\n",
    "import time\n",
    "\n",
    "import random"
   ]
  },
  {
   "cell_type": "code",
   "execution_count": 13,
   "metadata": {},
   "outputs": [],
   "source": [
    "import cv2 \n",
    "import numpy as np\n",
    "from PIL import Image"
   ]
  },
  {
   "cell_type": "code",
   "execution_count": 4,
   "metadata": {},
   "outputs": [],
   "source": [
    "import torch\n",
    "import torch.functional as F\n",
    "import torch.nn as nn"
   ]
  },
  {
   "cell_type": "code",
   "execution_count": 5,
   "metadata": {},
   "outputs": [],
   "source": [
    "Batch = namedtuple('batch', ('before', 'after'))"
   ]
  },
  {
   "cell_type": "code",
   "execution_count": 6,
   "metadata": {},
   "outputs": [],
   "source": [
    "emoticon_file_list = glob.glob('resource/*.png')\n",
    "emoticon_file_list.sort()"
   ]
  },
  {
   "cell_type": "code",
   "execution_count": 7,
   "metadata": {},
   "outputs": [],
   "source": [
    "image = cv2.imread(emoticon_file_list[-1])\n",
    "image = image[:, :, (2, 1, 0)]\n",
    "image = image / 2 ** 8\n",
    "# plt.imshow(image)"
   ]
  },
  {
   "cell_type": "code",
   "execution_count": 8,
   "metadata": {
    "scrolled": false
   },
   "outputs": [
    {
     "data": {
      "application/vnd.jupyter.widget-view+json": {
       "model_id": "756620f8ffff43508cf96a187fcca6b0",
       "version_major": 2,
       "version_minor": 0
      },
      "text/plain": [
       "HBox(children=(IntProgress(value=0, max=909), HTML(value='')))"
      ]
     },
     "metadata": {},
     "output_type": "display_data"
    },
    {
     "name": "stdout",
     "output_type": "stream",
     "text": [
      "\n"
     ]
    }
   ],
   "source": [
    "# Remove white images\n",
    "\n",
    "for file in tqdm(emoticon_file_list):\n",
    "    \n",
    "    image = cv2.imread(file)\n",
    "    \n",
    "    if np.min(image) == 255:\n",
    "        print(file)\n",
    "        image = image[:, :, (2, 1, 0)]\n",
    "        plt.figure()\n",
    "        plt.imshow(image)\n",
    "        plt.show()\n",
    "        os.remove(file)"
   ]
  },
  {
   "cell_type": "code",
   "execution_count": 29,
   "metadata": {
    "scrolled": false
   },
   "outputs": [
    {
     "data": {
      "application/vnd.jupyter.widget-view+json": {
       "model_id": "64a91ca89da846a593828059bbd7f047",
       "version_major": 2,
       "version_minor": 0
      },
      "text/plain": [
       "HBox(children=(IntProgress(value=0, max=909), HTML(value='')))"
      ]
     },
     "metadata": {},
     "output_type": "display_data"
    },
    {
     "name": "stdout",
     "output_type": "stream",
     "text": [
      "\n"
     ]
    }
   ],
   "source": [
    "for file in tqdm(emoticon_file_list):\n",
    "    \n",
    "    image = cv2.imread(file)\n",
    "    \n",
    "    image = image[:, :, (2, 1, 0)]\n",
    "        \n",
    "    if image.shape[0] != image.shape[1]:\n",
    "        \n",
    "        white_image = np.ones((124, 124, 3), dtype=np.uint8) * 255\n",
    "        white_image[:image.shape[0], :image.shape[1], :image.shape[2]] = image\n",
    "        \n",
    "        plt.figure()\n",
    "        plt.imshow(white_image)\n",
    "        plt.show()\n",
    "        print(file)\n",
    "        \n",
    "        im = Image.fromarray(white_image)\n",
    "        im.save(file)"
   ]
  },
  {
   "cell_type": "code",
   "execution_count": null,
   "metadata": {},
   "outputs": [],
   "source": [
    "def punch_image(image, p=0.1):\n",
    "    \n",
    "    bool_mask = np.random.choice((True, False), image.shape[1:3], True, (1-p, p))\n",
    "    bool_mask = np.stack([bool_mask, bool_mask, bool_mask], axis=0)\n",
    "    \n",
    "    punched_image= np.where(bool_mask, image, np.ones(image.shape))\n",
    "    \n",
    "    return punched_image"
   ]
  },
  {
   "cell_type": "code",
   "execution_count": null,
   "metadata": {},
   "outputs": [],
   "source": [
    "# x = np.rollaxis(image, 2, 0)\n",
    "# x.shape\n",
    "# y = np.rollaxis(x, 0, 3)\n",
    "# plt.imshow(y)"
   ]
  },
  {
   "cell_type": "code",
   "execution_count": null,
   "metadata": {
    "scrolled": true
   },
   "outputs": [],
   "source": [
    "# Punch test\n",
    "\n",
    "# for j in range(3):\n",
    "    \n",
    "#     file = np.random.choice(emoticon_file_list)\n",
    "    \n",
    "#     image = cv2.imread(file)\n",
    "#     image = image[:, :, (2, 1, 0)]\n",
    "#     image = image / 2 ** 8\n",
    "\n",
    "#     punched_image = image\n",
    "\n",
    "#     fig, axes = plt.subplots(4, 4, figsize=(8, 8))\n",
    "\n",
    "#     for i in range(16):\n",
    "\n",
    "#         axes[i//4][i%4].imshow(punched_image, aspect='auto')\n",
    "\n",
    "#         punched_image = punch_image(punched_image, 0.15)\n",
    "\n",
    "#     plt.tight_layout()\n",
    "#     plt.show()"
   ]
  },
  {
   "cell_type": "code",
   "execution_count": null,
   "metadata": {},
   "outputs": [],
   "source": [
    "def batch_list_to_batch(batch_list):\n",
    "    try:\n",
    "        before_batch = np.stack([batch_tuple[0] for batch_tuple in batch_list], axis=0)\n",
    "        after_batch = np.stack([batch_tuple[1] for batch_tuple in batch_list], axis=0)\n",
    "    except:\n",
    "        [print(batch_tuple[0].shape) for batch_tuple in batch_list]\n",
    "        [print(batch_tuple[1].shape) for batch_tuple in batch_list]\n",
    "    return (before_batch, after_batch)\n",
    "\n",
    "class PunchImageFeeder:\n",
    "    \n",
    "    def __init__(self, file_list):\n",
    "        self.file_list = file_list\n",
    "        self.queue = queue.Queue(maxsize=100)\n",
    "        self.finished = False\n",
    "        self.batch_size = 64\n",
    "        \n",
    "    def start_feeding(self):\n",
    "        \n",
    "        batch_tuple_list = []\n",
    "        \n",
    "        for file in self.file_list[::10]:\n",
    "            image = cv2.imread(file)\n",
    "            image = image[:, :, (2, 1, 0)]\n",
    "            image = image / 2 ** 8\n",
    "            image = np.rollaxis(image, 2, 0)\n",
    "            \n",
    "            for j in range(15):\n",
    "                punched_image = punch_image(image, 0.15)\n",
    "                batch_tuple_list.append(Batch(punched_image, image))\n",
    "                \n",
    "                if len(batch_tuple_list) >= self.batch_size:\n",
    "                    random.shuffle(batch_tuple_list)\n",
    "                    batch = batch_list_to_batch(batch_tuple_list)\n",
    "                    self.queue.put(batch)\n",
    "                    batch_tuple_list = list()\n",
    "                    \n",
    "                image = punched_image\n",
    "                \n",
    "        if len(batch_tuple_list) > 0:\n",
    "            random.shuffle(batch_tuple_list)\n",
    "            batch = batch_list_to_batch(batch_tuple_list)\n",
    "            self.queue.put(batch)\n",
    "            batch_tuple_list = list()\n",
    "                \n",
    "        self.finished = True\n",
    "             \n",
    "    def generator(self):\n",
    "        \n",
    "        self.finished = False\n",
    "        \n",
    "        t = threading.Thread(target=self.start_feeding)\n",
    "        t.start()\n",
    "        \n",
    "        while not self.finished:\n",
    "            try:\n",
    "                batch = self.queue.get_nowait()\n",
    "                yield batch\n",
    "            except:\n",
    "                time.sleep(1)\n",
    "        \n",
    "        t.join()"
   ]
  },
  {
   "cell_type": "code",
   "execution_count": null,
   "metadata": {},
   "outputs": [],
   "source": [
    "punch_image_feeder = PunchImageFeeder(emoticon_file_list)"
   ]
  },
  {
   "cell_type": "code",
   "execution_count": null,
   "metadata": {},
   "outputs": [],
   "source": [
    "# nn.functional.pad(torch.tensor(image), (0, 0, 1, 1, 1, 1)).shape"
   ]
  },
  {
   "cell_type": "code",
   "execution_count": null,
   "metadata": {},
   "outputs": [],
   "source": [
    "class ConvNet(nn.Module):\n",
    "    \n",
    "    def __init__(self):\n",
    "        super(ConvNet, self).__init__()\n",
    "        self.conv1 = nn.Conv2d(3, 16, 3, padding=1)\n",
    "        self.conv2 = nn.Conv2d(16, 32, 3, padding=1)\n",
    "        self.conv3 = nn.Conv2d(32, 16, 3, padding=1)\n",
    "        self.conv4 = nn.Conv2d(16, 3, 3, padding=1)\n",
    "        \n",
    "    def forward(self, x):\n",
    "        x = F.relu(self.conv1(x))\n",
    "        x = F.relu(self.conv2(x))\n",
    "        x = F.relu(self.conv3(x))\n",
    "        x = self.conv4(x)\n",
    "        \n",
    "        return x\n",
    "        "
   ]
  },
  {
   "cell_type": "code",
   "execution_count": null,
   "metadata": {
    "scrolled": false
   },
   "outputs": [],
   "source": [
    "for i, batch in enumerate(punch_image_feeder.generator()):\n",
    "    \n",
    "    batch_before, batch_after = batch\n",
    "    \n",
    "    if i % 10 == 0:\n",
    "        fig, axes = plt.subplots(1, 2, figsize=(8, 4))\n",
    "        axes[0].imshow(np.rollaxis(batch_before[0], 0, 3))\n",
    "        axes[1].imshow(np.rollaxis(batch_after[0], 0, 3))\n",
    "        plt.show()"
   ]
  },
  {
   "cell_type": "code",
   "execution_count": null,
   "metadata": {},
   "outputs": [],
   "source": [
    "batch[0][0]"
   ]
  },
  {
   "cell_type": "code",
   "execution_count": null,
   "metadata": {},
   "outputs": [],
   "source": []
  }
 ],
 "metadata": {
  "kernelspec": {
   "display_name": "Python 3",
   "language": "python",
   "name": "python3"
  },
  "language_info": {
   "codemirror_mode": {
    "name": "ipython",
    "version": 3
   },
   "file_extension": ".py",
   "mimetype": "text/x-python",
   "name": "python",
   "nbconvert_exporter": "python",
   "pygments_lexer": "ipython3",
   "version": "3.7.5"
  }
 },
 "nbformat": 4,
 "nbformat_minor": 2
}
